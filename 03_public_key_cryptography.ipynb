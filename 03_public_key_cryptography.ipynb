{
 "metadata": {
  "language_info": {
   "codemirror_mode": {
    "name": "ipython",
    "version": 3
   },
   "file_extension": ".py",
   "mimetype": "text/x-python",
   "name": "python",
   "nbconvert_exporter": "python",
   "pygments_lexer": "ipython3",
   "version": "3.8.5"
  },
  "orig_nbformat": 2,
  "kernelspec": {
   "name": "python385jvsc74a57bd03b8b96ed2ac5e829edfd58ba13a983c04657cdf047d30b8678b3bc33df0b87af",
   "display_name": "Python 3.8.5 64-bit ('base': conda)"
  }
 },
 "nbformat": 4,
 "nbformat_minor": 2,
 "cells": [
  {
   "source": [
    "# Public Key Cryptography"
   ],
   "cell_type": "markdown",
   "metadata": {}
  },
  {
   "cell_type": "code",
   "execution_count": 1,
   "metadata": {},
   "outputs": [],
   "source": [
    "import math\n",
    "import random"
   ]
  },
  {
   "source": [
    "## Public-Private Key Pair\n",
    "- User A has pair of related keys, public and private:\n",
    "\n",
    "    $(PU_A, PR_A)$\n",
    "\n",
    "## Public Key\n",
    "- Public, Available to anyone\n",
    "- For secrery: used in encryption\n",
    "- For authentication: used in decryption\n",
    "\n",
    "## Private Key\n",
    "- Secret, know only by owner\n",
    "- For secrery: used in decryption\n",
    "- For authentication: used in decryption"
   ],
   "cell_type": "markdown",
   "metadata": {}
  },
  {
   "source": [
    "## The RSA Algorithm"
   ],
   "cell_type": "markdown",
   "metadata": {}
  },
  {
   "cell_type": "code",
   "execution_count": 2,
   "metadata": {},
   "outputs": [],
   "source": [
    "def is_prime(n: int):\n",
    "    if n == 2 or n == 3: return True\n",
    "    if n % 2 == 0 or n < 2: return False\n",
    "    for i in range(3, int(n ** 0.5) + 1, 2): # only odd numbers\n",
    "        if n % i == 0:\n",
    "            return False    \n",
    "\n",
    "    return True"
   ]
  },
  {
   "source": [
    "### Euler's Totient Function\n",
    "\n",
    "$\\phi(n)$: the number of positive intigers less than $n$ and relatively prime to $n$"
   ],
   "cell_type": "markdown",
   "metadata": {}
  },
  {
   "cell_type": "code",
   "execution_count": 3,
   "metadata": {},
   "outputs": [],
   "source": [
    "def phi(n):\n",
    "    if n == 1: return 1\n",
    "    if is_prime(n): return n - 1\n",
    "\n",
    "    y = n\n",
    "    for i in range(2, n + 1):\n",
    "        if is_prime(i) and n % i == 0:\n",
    "            y *= 1 - 1.0/i\n",
    "\n",
    "    return int(y)"
   ]
  },
  {
   "cell_type": "code",
   "execution_count": 4,
   "metadata": {},
   "outputs": [
    {
     "output_type": "execute_result",
     "data": {
      "text/plain": [
       "12"
      ]
     },
     "metadata": {},
     "execution_count": 4
    }
   ],
   "source": [
    "phi(21)"
   ]
  },
  {
   "cell_type": "code",
   "execution_count": 5,
   "metadata": {},
   "outputs": [],
   "source": [
    "def key_generation(p: int, q: int):\n",
    "    \"\"\"\n",
    "    Generate Public-Key and Private-Key\n",
    "\n",
    "    Args:\n",
    "        p : prime number\n",
    "        q : prime number\n",
    "    \n",
    "    Returns:\n",
    "        Public-Key and Private-Key\n",
    "    \n",
    "    Raise:\n",
    "    \"\"\"\n",
    "\n",
    "    if is_prime(p) and is_prime(q):\n",
    "        # create public key\n",
    "        n = p * q\n",
    "        e = 2\n",
    "        phi_number = phi(n)\n",
    "        e_list = []\n",
    "\n",
    "        while (e < phi_number):\n",
    "            e_result = math.gcd(e, phi_number)\n",
    "            if e_result == 1:\n",
    "                e_list.append(e)\n",
    "            e += 1\n",
    "        \n",
    "        # e_selected = random.choice(e_list)\n",
    "        e_selected = 7\n",
    "        pub_key = (e_selected, n)\n",
    "\n",
    "        # create private key\n",
    "        d = int((phi_number + 1) / e_selected)\n",
    "\n",
    "        pri_key = (d, n)\n",
    "\n",
    "        return pub_key, pri_key\n",
    "\n",
    "    else:\n",
    "        raise ValueError(\"p or q is not a prime number\")"
   ]
  },
  {
   "cell_type": "code",
   "execution_count": 6,
   "metadata": {},
   "outputs": [
    {
     "output_type": "stream",
     "name": "stdout",
     "text": [
      "(7, 187)\n(23, 187)\n"
     ]
    }
   ],
   "source": [
    "pub_key, pri_key = key_generation(17, 11)\n",
    "print(pub_key)\n",
    "print(pri_key)"
   ]
  },
  {
   "cell_type": "code",
   "execution_count": 7,
   "metadata": {},
   "outputs": [],
   "source": [
    "def rsa_encryption(m: int, key: list):\n",
    "    if m < key[1]:\n",
    "        return (m ** key[0]) % key[1]\n",
    "\n",
    "def rsa_decryption(c: int, key: list):\n",
    "    return (c ** key[0]) % key[1]"
   ]
  },
  {
   "cell_type": "code",
   "execution_count": 8,
   "metadata": {},
   "outputs": [
    {
     "output_type": "stream",
     "name": "stdout",
     "text": [
      "Plain text: 88\nChipher text: 11\nDecrypted text: 88\n"
     ]
    }
   ],
   "source": [
    "plaintext = 88\n",
    "\n",
    "cipher = rsa_encryption(plaintext, pub_key)\n",
    "decrypted = rsa_decryption(cipher, pri_key)\n",
    "\n",
    "print(\"Plain text: {0}\".format(plaintext))\n",
    "print(\"Chipher text: {0}\".format(cipher))\n",
    "print(\"Decrypted text: {0}\".format(decrypted))"
   ]
  },
  {
   "cell_type": "code",
   "execution_count": 9,
   "metadata": {},
   "outputs": [
    {
     "output_type": "stream",
     "name": "stdout",
     "text": [
      "Plain text: 99\nChipher text: 176\nDecrypted text: 99\n"
     ]
    }
   ],
   "source": [
    "plaintext = 99\n",
    "\n",
    "cipher = rsa_encryption(plaintext, pri_key)\n",
    "decrypted = rsa_decryption(cipher, pub_key)\n",
    "\n",
    "print(\"Plain text: {0}\".format(plaintext))\n",
    "print(\"Chipher text: {0}\".format(cipher))\n",
    "print(\"Decrypted text: {0}\".format(decrypted))"
   ]
  },
  {
   "cell_type": "code",
   "execution_count": null,
   "metadata": {},
   "outputs": [],
   "source": []
  }
 ]
}